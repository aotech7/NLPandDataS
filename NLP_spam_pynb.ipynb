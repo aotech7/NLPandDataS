{
  "nbformat": 4,
  "nbformat_minor": 0,
  "metadata": {
    "colab": {
      "provenance": [],
      "authorship_tag": "ABX9TyNWzodjTDrUOjWxk+GySxHz",
      "include_colab_link": true
    },
    "kernelspec": {
      "name": "python3",
      "display_name": "Python 3"
    },
    "language_info": {
      "name": "python"
    }
  },
  "cells": [
    {
      "cell_type": "markdown",
      "metadata": {
        "id": "view-in-github",
        "colab_type": "text"
      },
      "source": [
        "<a href=\"https://colab.research.google.com/github/aotech7/NLPandDataS/blob/main/NLP_spam_pynb.ipynb\" target=\"_parent\"><img src=\"https://colab.research.google.com/assets/colab-badge.svg\" alt=\"Open In Colab\"/></a>"
      ]
    },
    {
      "cell_type": "code",
      "execution_count": 15,
      "metadata": {
        "colab": {
          "base_uri": "https://localhost:8080/"
        },
        "id": "C01veGZDE8vK",
        "outputId": "82fb9bd7-1e6a-41b5-ef77-b97081bde2e8"
      },
      "outputs": [
        {
          "output_type": "stream",
          "name": "stdout",
          "text": [
            "Enter an email address: promo@promo.com\n",
            "warning: this email may be SPAM\n"
          ]
        }
      ],
      "source": [
        "\n",
        "\n",
        "\n",
        "#checking for Spam with using wild card concept.\n",
        "def print_warning(spam):\n",
        "    s = input(\"Enter an email address: \")\n",
        "    if any (keyword in s for keyword in spam_keywords):\n",
        "\n",
        "        print(\"warning: this email may be SPAM\")\n",
        "    else:\n",
        "\n",
        "            print(\"This email is likely not SPAM\")\n",
        "spam_keywords = (\"promos.com\",\"promo.com\",\"offers.com\",\"offer.com\")\n",
        "print_warning(spam_keywords)\n"
      ]
    }
  ]
}