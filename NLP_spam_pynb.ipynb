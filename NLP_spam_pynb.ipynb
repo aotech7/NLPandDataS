{
  "nbformat": 4,
  "nbformat_minor": 0,
  "metadata": {
    "colab": {
      "provenance": [],
      "authorship_tag": "ABX9TyMbA3te7+mhqfmWk3QB1USx",
      "include_colab_link": true
    },
    "kernelspec": {
      "name": "python3",
      "display_name": "Python 3"
    },
    "language_info": {
      "name": "python"
    }
  },
  "cells": [
    {
      "cell_type": "markdown",
      "metadata": {
        "id": "view-in-github",
        "colab_type": "text"
      },
      "source": [
        "<a href=\"https://colab.research.google.com/github/aotech7/NLPandDataS/blob/main/NLP_spam_pynb.ipynb\" target=\"_parent\"><img src=\"https://colab.research.google.com/assets/colab-badge.svg\" alt=\"Open In Colab\"/></a>"
      ]
    },
    {
      "cell_type": "code",
      "execution_count": 8,
      "metadata": {
        "colab": {
          "base_uri": "https://localhost:8080/"
        },
        "id": "C01veGZDE8vK",
        "outputId": "1a0b853f-2b99-4fc8-e79b-0e75759690f1"
      },
      "outputs": [
        {
          "output_type": "stream",
          "name": "stdout",
          "text": [
            "Enter an email address: buytoday@sales.com\n",
            "warning: this email may be SPAM\n"
          ]
        }
      ],
      "source": [
        "\n",
        "\n",
        "#checking for Spam with using wild card concept.\n",
        "def print_warning(spam):\n",
        "    spam_keywords = \"sales.com\"\n",
        "    s = input(\"Enter an email address: \")\n",
        "    if spam_keywords in s:\n",
        "        print(\"warning: this email may be SPAM\")\n",
        "    else:\n",
        "\n",
        "            print(\"This email is likely not SPAM\")\n",
        "\n",
        "print_warning(spam_keywords)\n"
      ]
    }
  ]
}