{
  "nbformat": 4,
  "nbformat_minor": 0,
  "metadata": {
    "colab": {
      "provenance": [],
      "authorship_tag": "ABX9TyOPlACqjaQs5MUoIo06EGR2",
      "include_colab_link": true
    },
    "kernelspec": {
      "name": "python3",
      "display_name": "Python 3"
    },
    "language_info": {
      "name": "python"
    }
  },
  "cells": [
    {
      "cell_type": "markdown",
      "metadata": {
        "id": "view-in-github",
        "colab_type": "text"
      },
      "source": [
        "<a href=\"https://colab.research.google.com/github/aotech7/NLPandDataS/blob/main/Text_prepocessing.ipynb\" target=\"_parent\"><img src=\"https://colab.research.google.com/assets/colab-badge.svg\" alt=\"Open In Colab\"/></a>"
      ]
    },
    {
      "cell_type": "code",
      "execution_count": null,
      "metadata": {
        "id": "ZuDYCY-_LsVe"
      },
      "outputs": [],
      "source": []
    },
    {
      "cell_type": "markdown",
      "source": [
        "TEXT PREPROCESSING\n"
      ],
      "metadata": {
        "id": "_FlkUJ8IMMGr"
      }
    },
    {
      "cell_type": "code",
      "source": [
        "# import regex for process tect\n",
        "\n",
        "import re\n",
        "\n",
        "def text_preprocess(text):\n",
        "\n",
        "  text = text.lower()\n",
        "\n",
        "# remove special characters and digits\n",
        "\n",
        "  text = re.sub(r'[^a-zA-Z0-9\\s]','',text)\n",
        "\n",
        "  text = re.sub(r'\\s+',' ',text).strip()\n",
        "\n",
        "  return text\n",
        "\n",
        "\n",
        "# provide an excerpt from NDA document\n",
        "\n",
        "nda_document = '''Purpose: The procurement of services\n",
        "Confidentiality period: 2 years\n",
        "Governing law:\n",
        "California\n",
        "Jurisdiction: San Francisco County\n",
        "TERMS\n",
        "1. What is Confidential Information?\n",
        "(a) Confidential Information means information that is disclosed:\n",
        "(i) by a party to this Agreement (the Discloser) or on the Discloser’s behalf by its\n",
        "authorised representatives or its Affiliates,\n",
        "(ii) to the other party to this Agreement (the Receiver), and\n",
        "(iii) in connection with the Purpose.\n",
        "(b) Confidential Information does not include information that is:\n",
        "(i) in the public domain not by breach of this Agreement,\n",
        "(ii) known by the Receiver at the time of disclosure,\n",
        "(iii) lawfully obtained by the Receiver from a third party other than through a breach of\n",
        "confidence,\n",
        "(iv) independently developed by the Receiver, or\n",
        "(v) expressly indicated by the Discloser as not confidential.\n",
        "(c) Affiliates means any entity that directly or indirectly controls, is controlled by, is under common\n",
        "control with or is otherwise in the same group of entities as a party to this Agreement.\n",
        "2. Who can I share it with?\n",
        "(a) The Receiver may share the Confidential Information with its Permitted Receivers, which means\n",
        "its Affiliates and its officers, employees, members, representatives, professional advisors, agents\n",
        "and subcontractors of the Receiver or its Affiliates, but only if they:\n",
        "(i) need to know it, and only use it, for the Purpose, and\n",
        "(ii) have agreed to keep it confidential and restrict its use to the same extent that the\n",
        "Receiver has.\n",
        "(b) The Receiver is liable for its breach of this Agreement and any act or omission by a Permitted'''\n",
        "\n",
        "\n",
        "processed_nda = text_preprocess(nda_document)\n",
        "\n",
        "print(processed_nda)"
      ],
      "metadata": {
        "colab": {
          "base_uri": "https://localhost:8080/"
        },
        "id": "D7XoPLNfMSNY",
        "outputId": "1e8e5053-a74c-4af7-bd4c-79ab24585e7e"
      },
      "execution_count": 2,
      "outputs": [
        {
          "output_type": "stream",
          "name": "stdout",
          "text": [
            "purpose the procurement of services confidentiality period 2 years governing law california jurisdiction san francisco county terms 1 what is confidential information a confidential information means information that is disclosed i by a party to this agreement the discloser or on the disclosers behalf by its authorised representatives or its affiliates ii to the other party to this agreement the receiver and iii in connection with the purpose b confidential information does not include information that is i in the public domain not by breach of this agreement ii known by the receiver at the time of disclosure iii lawfully obtained by the receiver from a third party other than through a breach of confidence iv independently developed by the receiver or v expressly indicated by the discloser as not confidential c affiliates means any entity that directly or indirectly controls is controlled by is under common control with or is otherwise in the same group of entities as a party to this agreement 2 who can i share it with a the receiver may share the confidential information with its permitted receivers which means its affiliates and its officers employees members representatives professional advisors agents and subcontractors of the receiver or its affiliates but only if they i need to know it and only use it for the purpose and ii have agreed to keep it confidential and restrict its use to the same extent that the receiver has b the receiver is liable for its breach of this agreement and any act or omission by a permitted\n"
          ]
        }
      ]
    }
  ]
}